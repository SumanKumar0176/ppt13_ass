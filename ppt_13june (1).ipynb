{
 "cells": [
  {
   "cell_type": "code",
   "execution_count": 1,
   "id": "90d8abdb-ce81-4d68-8201-ab6f4c9df921",
   "metadata": {},
   "outputs": [
    {
     "data": {
      "text/plain": [
       "'\\n<aside>\\n💡 **Question 1**\\n\\nGiven two linked list of the same size, the task is to create a new linked list using those linked lists. The condition is that the greater node among both linked list will be added to the new linked list.\\n\\n'"
      ]
     },
     "execution_count": 1,
     "metadata": {},
     "output_type": "execute_result"
    }
   ],
   "source": [
    "\"\"\"\n",
    "<aside>\n",
    "💡 **Question 1**\n",
    "\n",
    "Given two linked list of the same size, the task is to create a new linked list using those linked lists. The condition is that the greater node among both linked list will be added to the new linked list.\n",
    "\n",
    "\"\"\""
   ]
  },
  {
   "cell_type": "code",
   "execution_count": 1,
   "id": "d0c5945d-0ac3-4a2d-800a-d6b9e175007c",
   "metadata": {},
   "outputs": [
    {
     "name": "stdout",
     "output_type": "stream",
     "text": [
      "5 2 3 8 1 7 4 5 \n"
     ]
    }
   ],
   "source": [
    "class Node:\n",
    "    def __init__(self, data):\n",
    "        self.data = data\n",
    "        self.next = None\n",
    "\n",
    "\n",
    "def create_new_linked_list(list1, list2):\n",
    "    # Check if either list is empty\n",
    "    if list1 is None:\n",
    "        return list2\n",
    "    if list2 is None:\n",
    "        return list1\n",
    "\n",
    "    # Create a dummy node as the head of the new linked list\n",
    "    dummy = Node(0)\n",
    "    current = dummy\n",
    "\n",
    "    # Traverse both input linked lists simultaneously\n",
    "    while list1 is not None and list2 is not None:\n",
    "        # Compare the values of the current nodes\n",
    "        if list1.data >= list2.data:\n",
    "            # Add the greater value to the new linked list\n",
    "            current.next = Node(list1.data)\n",
    "            list1 = list1.next\n",
    "        else:\n",
    "            current.next = Node(list2.data)\n",
    "            list2 = list2.next\n",
    "        current = current.next\n",
    "\n",
    "    # Add the remaining nodes of list1 or list2, if any\n",
    "    if list1 is not None:\n",
    "        current.next = list1\n",
    "    if list2 is not None:\n",
    "        current.next = list2\n",
    "\n",
    "    # Return the new linked list (excluding the dummy node)\n",
    "    return dummy.next\n",
    "\n",
    "\n",
    "# Helper function to print a linked list\n",
    "def print_linked_list(head):\n",
    "    current = head\n",
    "    while current is not None:\n",
    "        print(current.data, end=\" \")\n",
    "        current = current.next\n",
    "    print()\n",
    "\n",
    "\n",
    "# Example usage:\n",
    "# Create the first linked list: 5->2->3->8\n",
    "list1 = Node(5)\n",
    "list1.next = Node(2)\n",
    "list1.next.next = Node(3)\n",
    "list1.next.next.next = Node(8)\n",
    "\n",
    "# Create the second linked list: 1->7->4->5\n",
    "list2 = Node(1)\n",
    "list2.next = Node(7)\n",
    "list2.next.next = Node(4)\n",
    "list2.next.next.next = Node(5)\n",
    "\n",
    "# Create the new linked list using the two input lists\n",
    "new_list = create_new_linked_list(list1, list2)\n",
    "\n",
    "# Print the new linked list\n",
    "print_linked_list(new_list)\n"
   ]
  },
  {
   "cell_type": "code",
   "execution_count": 2,
   "id": "18d019fc-8afb-4fef-8938-17fbede71855",
   "metadata": {},
   "outputs": [
    {
     "data": {
      "text/plain": [
       "'\\n **Question 2**\\n\\nWrite a function that takes a list sorted in non-decreasing order and deletes any duplicate nodes from the list. The list should only be traversed once.\\n\\nFor example if the linked list is 11->11->11->21->43->43->60 then removeDuplicates() should convert the list to 11->21->43->60.\\n\\n'"
      ]
     },
     "execution_count": 2,
     "metadata": {},
     "output_type": "execute_result"
    }
   ],
   "source": [
    "\"\"\"\n",
    " **Question 2**\n",
    "\n",
    "Write a function that takes a list sorted in non-decreasing order and deletes any duplicate nodes from the list. The list should only be traversed once.\n",
    "\n",
    "For example if the linked list is 11->11->11->21->43->43->60 then removeDuplicates() should convert the list to 11->21->43->60.\n",
    "\n",
    "\"\"\""
   ]
  },
  {
   "cell_type": "code",
   "execution_count": 3,
   "id": "406495c8-7f97-4513-9ac5-8faa06c69b04",
   "metadata": {},
   "outputs": [],
   "source": [
    "class Node:\n",
    "    def __init__(self, data=None):\n",
    "        self.data = data\n",
    "        self.next = None\n",
    "\n",
    "def remove_duplicates(head):\n",
    "    if head is None:\n",
    "        return head\n",
    "    \n",
    "    current = head\n",
    "    while current.next is not None:\n",
    "        if current.data == current.next.data:\n",
    "            current.next = current.next.next\n",
    "        else:\n",
    "            current = current.next\n",
    "    \n",
    "    return head\n"
   ]
  },
  {
   "cell_type": "code",
   "execution_count": 4,
   "id": "bc85f741-36fd-4f91-a548-0d31d4e173a0",
   "metadata": {},
   "outputs": [
    {
     "name": "stdout",
     "output_type": "stream",
     "text": [
      "11->11->11->21->43->43->60->None\n",
      "11->21->43->60->None\n"
     ]
    }
   ],
   "source": [
    "# Create the linked list\n",
    "head = Node(11)\n",
    "head.next = Node(11)\n",
    "head.next.next = Node(11)\n",
    "head.next.next.next = Node(21)\n",
    "head.next.next.next.next = Node(43)\n",
    "head.next.next.next.next.next = Node(43)\n",
    "head.next.next.next.next.next.next = Node(60)\n",
    "\n",
    "# Print the original list\n",
    "current = head\n",
    "while current is not None:\n",
    "    print(current.data, end=\"->\")\n",
    "    current = current.next\n",
    "print(\"None\")\n",
    "\n",
    "# Remove duplicates\n",
    "head = remove_duplicates(head)\n",
    "\n",
    "# Print the modified list\n",
    "current = head\n",
    "while current is not None:\n",
    "    print(current.data, end=\"->\")\n",
    "    current = current.next\n",
    "print(\"None\")\n"
   ]
  },
  {
   "cell_type": "code",
   "execution_count": 5,
   "id": "094f38ed-557c-48df-a09a-45d1760335b2",
   "metadata": {},
   "outputs": [
    {
     "data": {
      "text/plain": [
       "'\\n**Question 3**\\n\\nGiven a linked list of size\\xa0**N**. The task is to reverse every\\xa0**k**\\xa0nodes (where k is an input to the function) in the linked list. If the number of nodes is not a multiple of\\xa0*k*\\xa0then left-out nodes, in the end, should be considered as a group and must be\\xa0reversed (See Example 2 for clarification).\\n\\n'"
      ]
     },
     "execution_count": 5,
     "metadata": {},
     "output_type": "execute_result"
    }
   ],
   "source": [
    "\"\"\"\n",
    "**Question 3**\n",
    "\n",
    "Given a linked list of size **N**. The task is to reverse every **k** nodes (where k is an input to the function) in the linked list. If the number of nodes is not a multiple of *k* then left-out nodes, in the end, should be considered as a group and must be reversed (See Example 2 for clarification).\n",
    "\n",
    "\"\"\""
   ]
  },
  {
   "cell_type": "code",
   "execution_count": 6,
   "id": "19eb0ebd-6dc5-482f-9452-909c2bded025",
   "metadata": {},
   "outputs": [],
   "source": [
    "class Node:\n",
    "    def __init__(self, data=None):\n",
    "        self.data = data\n",
    "        self.next = None\n",
    "\n",
    "def reverse_k_nodes(head, k):\n",
    "    if head is None or k == 1:\n",
    "        return head\n",
    "    \n",
    "    dummy = Node(0)\n",
    "    dummy.next = head\n",
    "    prev = dummy\n",
    "    \n",
    "    while True:\n",
    "        count = 0\n",
    "        current = prev.next\n",
    "        tail = prev\n",
    "        \n",
    "        # Check if there are k nodes to reverse\n",
    "        while count < k and tail.next is not None:\n",
    "            tail = tail.next\n",
    "            count += 1\n",
    "        \n",
    "        if count < k:\n",
    "            break  # Reached the end of the list\n",
    "        \n",
    "        # Reverse the k nodes\n",
    "        next_group = tail.next\n",
    "        while prev.next != next_group:\n",
    "            temp = prev.next\n",
    "            prev.next = temp.next\n",
    "            temp.next = tail.next\n",
    "            tail.next = temp\n",
    "        \n",
    "        prev = current\n",
    "    \n",
    "    return dummy.next\n"
   ]
  },
  {
   "cell_type": "code",
   "execution_count": null,
   "id": "a186d350-cccf-4cb1-9ed9-5eb32feeb016",
   "metadata": {},
   "outputs": [
    {
     "name": "stdout",
     "output_type": "stream",
     "text": [
      "1->2->2->4->5->6->7->8->None\n"
     ]
    }
   ],
   "source": [
    "# Create the linked list\n",
    "head = Node(1)\n",
    "head.next = Node(2)\n",
    "head.next.next = Node(2)\n",
    "head.next.next.next = Node(4)\n",
    "head.next.next.next.next = Node(5)\n",
    "head.next.next.next.next.next = Node(6)\n",
    "head.next.next.next.next.next.next = Node(7)\n",
    "head.next.next.next.next.next.next.next = Node(8)\n",
    "\n",
    "# Print the original list\n",
    "current = head\n",
    "while current is not None:\n",
    "    print(current.data, end=\"->\")\n",
    "    current = current.next\n",
    "print(\"None\")\n",
    "\n",
    "# Reverse every k nodes\n",
    "k = 4\n",
    "head = reverse_k_nodes(head, k)\n",
    "\n",
    "# Print the modified list\n",
    "current = head\n",
    "while current is not None:\n",
    "    print(current.data, end=\"->\")\n",
    "    current = current.next\n",
    "print(\"None\")\n"
   ]
  },
  {
   "cell_type": "code",
   "execution_count": null,
   "id": "ddf569db-7829-4826-8a77-da754f4e5d53",
   "metadata": {},
   "outputs": [],
   "source": [
    "\"\"\"\n",
    "**Question 4**\n",
    "\n",
    "Given a linked list, write a function to reverse every alternate k nodes (where k is an input to the function) in an efficient way. Give the complexity of your algorithm.\n",
    "\n",
    "\"\"\""
   ]
  },
  {
   "cell_type": "code",
   "execution_count": 1,
   "id": "31dbecca-004c-4a63-8952-c932661bc726",
   "metadata": {},
   "outputs": [],
   "source": [
    "class Node:\n",
    "    def __init__(self, data=None):\n",
    "        self.data = data\n",
    "        self.next = None\n",
    "\n",
    "def reverse_alternate_k_nodes(head, k):\n",
    "    if head is None or k == 1:\n",
    "        return head\n",
    "    \n",
    "    current = head\n",
    "    prev = None\n",
    "    next_node = None\n",
    "    count = 0\n",
    "    \n",
    "    # Reverse k nodes\n",
    "    while current is not None and count < k:\n",
    "        next_node = current.next\n",
    "        current.next = prev\n",
    "        prev = current\n",
    "        current = next_node\n",
    "        count += 1\n",
    "    \n",
    "    if head is not None:\n",
    "        head.next = current\n",
    "    \n",
    "    # Skip next k nodes\n",
    "    count = 0\n",
    "    while current is not None and count < k - 1:\n",
    "        current = current.next\n",
    "        count += 1\n",
    "    \n",
    "    if current is not None:\n",
    "        current.next = reverse_alternate_k_nodes(current.next, k)\n",
    "    \n",
    "    return prev\n"
   ]
  },
  {
   "cell_type": "code",
   "execution_count": 2,
   "id": "2c252c0c-26eb-4c16-8654-c41eb3d3c3a9",
   "metadata": {},
   "outputs": [
    {
     "name": "stdout",
     "output_type": "stream",
     "text": [
      "1->2->3->4->5->6->7->8->9->None\n",
      "3->2->1->4->5->6->9->8->7->None\n"
     ]
    }
   ],
   "source": [
    "# Create the linked list\n",
    "head = Node(1)\n",
    "head.next = Node(2)\n",
    "head.next.next = Node(3)\n",
    "head.next.next.next = Node(4)\n",
    "head.next.next.next.next = Node(5)\n",
    "head.next.next.next.next.next = Node(6)\n",
    "head.next.next.next.next.next.next = Node(7)\n",
    "head.next.next.next.next.next.next.next = Node(8)\n",
    "head.next.next.next.next.next.next.next.next = Node(9)\n",
    "\n",
    "# Print the original list\n",
    "current = head\n",
    "while current is not None:\n",
    "    print(current.data, end=\"->\")\n",
    "    current = current.next\n",
    "print(\"None\")\n",
    "\n",
    "# Reverse every alternate k nodes\n",
    "k = 3\n",
    "head = reverse_alternate_k_nodes(head, k)\n",
    "\n",
    "# Print the modified list\n",
    "current = head\n",
    "while current is not None:\n",
    "    print(current.data, end=\"->\")\n",
    "    current = current.next\n",
    "print(\"None\")\n"
   ]
  },
  {
   "cell_type": "code",
   "execution_count": 3,
   "id": "4ac743ec-8e88-421e-b9c3-f76b1e1c71d3",
   "metadata": {},
   "outputs": [
    {
     "data": {
      "text/plain": [
       "'\\n**Question 5**\\n\\nGiven a linked list and a key to be deleted. Delete last occurrence of key from linked. The list may have duplicates.\\n\\n\\n'"
      ]
     },
     "execution_count": 3,
     "metadata": {},
     "output_type": "execute_result"
    }
   ],
   "source": [
    "\"\"\"\n",
    "**Question 5**\n",
    "\n",
    "Given a linked list and a key to be deleted. Delete last occurrence of key from linked. The list may have duplicates.\n",
    "\n",
    "\n",
    "\"\"\""
   ]
  },
  {
   "cell_type": "code",
   "execution_count": 1,
   "id": "c6aa21aa-2150-4f49-bb3b-0b2524eb0132",
   "metadata": {},
   "outputs": [
    {
     "name": "stdout",
     "output_type": "stream",
     "text": [
      "Original linked list:\n",
      "1->2->3->5->2->10->None\n",
      "Linked list after deleting last occurrence of 2:\n",
      "1->2->3->5->10->None\n"
     ]
    }
   ],
   "source": [
    "class Node:\n",
    "    def __init__(self, data):\n",
    "        self.data = data\n",
    "        self.next = None\n",
    "\n",
    "\n",
    "def delete_last_occurrence(head, key):\n",
    "    if head is None:\n",
    "        return None\n",
    "\n",
    "    prev = None\n",
    "    lastOccurrencePrev = None\n",
    "\n",
    "    curr = head\n",
    "    while curr is not None:\n",
    "        if curr.data == key:\n",
    "            lastOccurrencePrev = prev\n",
    "        prev = curr\n",
    "        curr = curr.next\n",
    "\n",
    "    if lastOccurrencePrev is None:\n",
    "        if head.data == key:\n",
    "            head = head.next\n",
    "    else:\n",
    "        lastOccurrencePrev.next = lastOccurrencePrev.next.next\n",
    "\n",
    "    return head\n",
    "\n",
    "\n",
    "def print_linked_list(head):\n",
    "    curr = head\n",
    "    while curr is not None:\n",
    "        print(curr.data, end=\"->\")\n",
    "        curr = curr.next\n",
    "    print(\"None\")\n",
    "\n",
    "\n",
    "# Example usage:\n",
    "# Create the linked list: 1->2->3->5->2->10\n",
    "head = Node(1)\n",
    "head.next = Node(2)\n",
    "head.next.next = Node(3)\n",
    "head.next.next.next = Node(5)\n",
    "head.next.next.next.next = Node(2)\n",
    "head.next.next.next.next.next = Node(10)\n",
    "\n",
    "print(\"Original linked list:\")\n",
    "print_linked_list(head)\n",
    "\n",
    "key = 2\n",
    "head = delete_last_occurrence(head, key)\n",
    "\n",
    "print(f\"Linked list after deleting last occurrence of {key}:\")\n",
    "print_linked_list(head)\n"
   ]
  },
  {
   "cell_type": "code",
   "execution_count": 2,
   "id": "8d4d9886-3941-4bd7-a009-8bdc3093cf69",
   "metadata": {},
   "outputs": [
    {
     "data": {
      "text/plain": [
       "'\\n<aside>\\n💡 **Question 6**\\n\\nGiven two sorted linked lists consisting of\\xa0**N**\\xa0and\\xa0**M**\\xa0nodes respectively. The task is to merge both of the lists (in place) and return the head of the merged list.\\n\\n</aside>\\n'"
      ]
     },
     "execution_count": 2,
     "metadata": {},
     "output_type": "execute_result"
    }
   ],
   "source": [
    "\"\"\"\n",
    "<aside>\n",
    "💡 **Question 6**\n",
    "\n",
    "Given two sorted linked lists consisting of **N** and **M** nodes respectively. The task is to merge both of the lists (in place) and return the head of the merged list.\n",
    "\n",
    "</aside>\n",
    "\"\"\""
   ]
  },
  {
   "cell_type": "code",
   "execution_count": 3,
   "id": "2260b263-80a2-4c24-a342-42c690eb41c5",
   "metadata": {},
   "outputs": [
    {
     "name": "stdout",
     "output_type": "stream",
     "text": [
      "First sorted linked list:\n",
      "5->10->15->None\n",
      "Second sorted linked list:\n",
      "2->3->20->None\n",
      "Merged sorted linked list:\n",
      "2->3->5->10->15->20->None\n"
     ]
    }
   ],
   "source": [
    "class Node:\n",
    "    def __init__(self, data):\n",
    "        self.data = data\n",
    "        self.next = None\n",
    "\n",
    "\n",
    "def merge_sorted_lists(a, b):\n",
    "    dummy = Node(None)\n",
    "    current = dummy\n",
    "\n",
    "    ptr1 = a\n",
    "    ptr2 = b\n",
    "\n",
    "    while ptr1 is not None and ptr2 is not None:\n",
    "        if ptr1.data <= ptr2.data:\n",
    "            current.next = ptr1\n",
    "            ptr1 = ptr1.next\n",
    "        else:\n",
    "            current.next = ptr2\n",
    "            ptr2 = ptr2.next\n",
    "        current = current.next\n",
    "\n",
    "    if ptr1 is not None:\n",
    "        current.next = ptr1\n",
    "\n",
    "    if ptr2 is not None:\n",
    "        current.next = ptr2\n",
    "\n",
    "    return dummy.next\n",
    "\n",
    "\n",
    "def print_linked_list(head):\n",
    "    curr = head\n",
    "    while curr is not None:\n",
    "        print(curr.data, end=\"->\")\n",
    "        curr = curr.next\n",
    "    print(\"None\")\n",
    "\n",
    "\n",
    "# Example usage:\n",
    "# Create the first sorted linked list: 5->10->15\n",
    "a = Node(5)\n",
    "a.next = Node(10)\n",
    "a.next.next = Node(15)\n",
    "\n",
    "# Create the second sorted linked list: 2->3->20\n",
    "b = Node(2)\n",
    "b.next = Node(3)\n",
    "b.next.next = Node(20)\n",
    "\n",
    "print(\"First sorted linked list:\")\n",
    "print_linked_list(a)\n",
    "\n",
    "print(\"Second sorted linked list:\")\n",
    "print_linked_list(b)\n",
    "\n",
    "merged = merge_sorted_lists(a, b)\n",
    "\n",
    "print(\"Merged sorted linked list:\")\n",
    "print_linked_list(merged)\n"
   ]
  },
  {
   "cell_type": "code",
   "execution_count": 5,
   "id": "0b3949b1-25d0-4ddf-ae37-ea82340f613c",
   "metadata": {},
   "outputs": [
    {
     "data": {
      "text/plain": [
       "'\\n<aside>\\n💡 **Question 7**\\n\\nGiven a\\xa0**Doubly Linked List**, the task is to reverse the given Doubly Linked List.\\n\\n</aside>\\n'"
      ]
     },
     "execution_count": 5,
     "metadata": {},
     "output_type": "execute_result"
    }
   ],
   "source": [
    "\"\"\"\n",
    "<aside>\n",
    "💡 **Question 7**\n",
    "\n",
    "Given a **Doubly Linked List**, the task is to reverse the given Doubly Linked List.\n",
    "\n",
    "</aside>\n",
    "\"\"\""
   ]
  },
  {
   "cell_type": "code",
   "execution_count": 6,
   "id": "cae2a510-c1d9-4b0a-8ae8-1301cfb64e7c",
   "metadata": {},
   "outputs": [
    {
     "name": "stdout",
     "output_type": "stream",
     "text": [
      "Original doubly linked list:\n",
      "10 8 4 2 \n",
      "Reversed doubly linked list:\n",
      "2 4 8 10 \n"
     ]
    }
   ],
   "source": [
    "class Node:\n",
    "    def __init__(self, data):\n",
    "        self.data = data\n",
    "        self.prev = None\n",
    "        self.next = None\n",
    "\n",
    "\n",
    "def reverse_doubly_linked_list(head):\n",
    "    current = head\n",
    "    prev = None\n",
    "\n",
    "    while current is not None:\n",
    "        next_node = current.next\n",
    "        current.next = prev\n",
    "        current.prev = next_node\n",
    "        prev = current\n",
    "        current = next_node\n",
    "\n",
    "    head = prev\n",
    "    return head\n",
    "\n",
    "\n",
    "def print_doubly_linked_list(head):\n",
    "    curr = head\n",
    "    while curr is not None:\n",
    "        print(curr.data, end=\" \")\n",
    "        curr = curr.next\n",
    "    print()\n",
    "\n",
    "\n",
    "# Example usage:\n",
    "# Create the original doubly linked list: 10<->8<->4<->2\n",
    "head = Node(10)\n",
    "head.next = Node(8)\n",
    "head.next.prev = head\n",
    "head.next.next = Node(4)\n",
    "head.next.next.prev = head.next\n",
    "head.next.next.next = Node(2)\n",
    "head.next.next.next.prev = head.next.next\n",
    "\n",
    "print(\"Original doubly linked list:\")\n",
    "print_doubly_linked_list(head)\n",
    "\n",
    "reversed_head = reverse_doubly_linked_list(head)\n",
    "\n",
    "print(\"Reversed doubly linked list:\")\n",
    "print_doubly_linked_list(reversed_head)\n"
   ]
  },
  {
   "cell_type": "code",
   "execution_count": 7,
   "id": "d10458e4-6fe4-4056-811a-a1fdb8f54354",
   "metadata": {},
   "outputs": [
    {
     "data": {
      "text/plain": [
       "'\\n<aside>\\n💡 **Question 8**\\n\\nGiven a doubly linked list and a position. The task is to delete a node from given position in\\xa0a doubly linked list.\\n\\n</aside>\\n'"
      ]
     },
     "execution_count": 7,
     "metadata": {},
     "output_type": "execute_result"
    }
   ],
   "source": [
    "\"\"\"\n",
    "<aside>\n",
    "💡 **Question 8**\n",
    "\n",
    "Given a doubly linked list and a position. The task is to delete a node from given position in a doubly linked list.\n",
    "\n",
    "</aside>\n",
    "\"\"\""
   ]
  },
  {
   "cell_type": "code",
   "execution_count": 8,
   "id": "907853b9-b84f-4b71-b0f6-c816a988efdf",
   "metadata": {},
   "outputs": [
    {
     "name": "stdout",
     "output_type": "stream",
     "text": [
      "Original doubly linked list:\n",
      "1 3 4 \n",
      "Doubly linked list after deleting node at position 3:\n",
      "1 3 \n"
     ]
    }
   ],
   "source": [
    "class Node:\n",
    "    def __init__(self, data):\n",
    "        self.data = data\n",
    "        self.prev = None\n",
    "        self.next = None\n",
    "\n",
    "\n",
    "def delete_node_at_position(head, position):\n",
    "    if head is None:\n",
    "        return head\n",
    "\n",
    "    if position == 1:\n",
    "        new_head = head.next\n",
    "        if new_head:\n",
    "            new_head.prev = None\n",
    "        return new_head\n",
    "\n",
    "    current = head\n",
    "    count = 1\n",
    "\n",
    "    while current is not None and count < position:\n",
    "        current = current.next\n",
    "        count += 1\n",
    "\n",
    "    if current is None:\n",
    "        return head\n",
    "\n",
    "    current.prev.next = current.next\n",
    "\n",
    "    if current.next is not None:\n",
    "        current.next.prev = current.prev\n",
    "\n",
    "    return head\n",
    "\n",
    "\n",
    "def print_doubly_linked_list(head):\n",
    "    curr = head\n",
    "    while curr is not None:\n",
    "        print(curr.data, end=\" \")\n",
    "        curr = curr.next\n",
    "    print()\n",
    "\n",
    "\n",
    "# Example usage:\n",
    "# Create the original doubly linked list: 1<->3<->4\n",
    "head = Node(1)\n",
    "head.next = Node(3)\n",
    "head.next.prev = head\n",
    "head.next.next = Node(4)\n",
    "head.next.next.prev = head.next\n",
    "\n",
    "print(\"Original doubly linked list:\")\n",
    "print_doubly_linked_list(head)\n",
    "\n",
    "position = 3\n",
    "\n",
    "updated_head = delete_node_at_position(head, position)\n",
    "\n",
    "print(f\"Doubly linked list after deleting node at position {position}:\")\n",
    "print_doubly_linked_list(updated_head)\n"
   ]
  },
  {
   "cell_type": "code",
   "execution_count": null,
   "id": "b1d0fc24-ba45-4cce-8bcf-3a22121c7b96",
   "metadata": {},
   "outputs": [],
   "source": []
  }
 ],
 "metadata": {
  "kernelspec": {
   "display_name": "Python 3 (ipykernel)",
   "language": "python",
   "name": "python3"
  },
  "language_info": {
   "codemirror_mode": {
    "name": "ipython",
    "version": 3
   },
   "file_extension": ".py",
   "mimetype": "text/x-python",
   "name": "python",
   "nbconvert_exporter": "python",
   "pygments_lexer": "ipython3",
   "version": "3.10.6"
  }
 },
 "nbformat": 4,
 "nbformat_minor": 5
}
